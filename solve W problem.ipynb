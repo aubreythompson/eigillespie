{
 "metadata": {
  "name": "",
  "signature": "sha256:3b6a3f4c7ce91912322cb0b5b71e8c3aac24f4d71c8caaa2942f1efe7c473d0d"
 },
 "nbformat": 3,
 "nbformat_minor": 0,
 "worksheets": [
  {
   "cells": [
    {
     "cell_type": "code",
     "collapsed": false,
     "input": [
      "#(L & R)(E & PV & SOM)\n",
      "#RHS is non-zero so there is a solution\n",
      "from sympy import Matrix, solve_linear_system\n",
      "from sympy.abc import a,b,c,d,e,f,g,h,i,j,k,l,m,n,o,p,q,r,s,u,v,w,x,y,z\n",
      "j=0\n",
      "W = Matrix([[a,a,(g+j/2),0,d,0,m],[a,a,0,(g-j/2),0,d,m],[b,b,(h+j/2),0,e,0,n],[b,b,0,(h-j/2),0,e,n],[c,c,(i+j/2),0,f,0,o],[c,c,0,(i-j/2),0,f,o]])\n",
      "sol=solve_linear_system(W,u,v,w,x,y,z)\n",
      "print sol"
     ],
     "language": "python",
     "metadata": {},
     "outputs": [
      {
       "output_type": "stream",
       "stream": "stdout",
       "text": [
        "{u: (-a*e*i*v + a*f*h*v + b*d*i*v - b*f*g*v - c*d*h*v + c*e*g*v + d*h*o - d*i*n - e*g*o + e*i*m + f*g*n - f*h*m)/(a*e*i - a*f*h - b*d*i + b*f*g + c*d*h - c*e*g), x: (a*e*o - a*f*n - b*d*o + b*f*m + c*d*n - c*e*m)/(a*e*i - a*f*h - b*d*i + b*f*g + c*d*h - c*e*g), w: (a*e*o - a*f*n - b*d*o + b*f*m + c*d*n - c*e*m)/(a*e*i - a*f*h - b*d*i + b*f*g + c*d*h - c*e*g), z: (-a*h*o + a*i*n + b*g*o - b*i*m - c*g*n + c*h*m)/(a*e*i - a*f*h - b*d*i + b*f*g + c*d*h - c*e*g), y: (-a*h*o + a*i*n + b*g*o - b*i*m - c*g*n + c*h*m)/(a*e*i - a*f*h - b*d*i + b*f*g + c*d*h - c*e*g)}\n"
       ]
      }
     ],
     "prompt_number": 26
    },
    {
     "cell_type": "code",
     "collapsed": false,
     "input": [
      "#(E & I)(L & R)\n",
      "from sympy import Matrix, solve_linear_system\n",
      "from sympy.abc import a,b,g,h,i,j,k,l,m,n,w,x,y,z\n",
      "j=0\n",
      "W = Matrix([[a,a,(-g+j/2),0,k],[a,a,0,(-g-j/2),k],[b,b,(-h+j/2),0,k],[b,b,0,(-h-j/2),k]])\n",
      "\n",
      "sol=solve_linear_system(W,w,x,y,z)\n",
      "print sol"
     ],
     "language": "python",
     "metadata": {},
     "outputs": [
      {
       "output_type": "stream",
       "stream": "stdout",
       "text": [
        "{w: (-a*h*x + b*g*x - g*k + h*k)/(a*h - b*g), z: -k*(a - b)/(a*h - b*g), y: -k*(a - b)/(a*h - b*g)}\n"
       ]
      }
     ],
     "prompt_number": 10
    },
    {
     "cell_type": "code",
     "collapsed": false,
     "input": [
      "#just E and I\n",
      "from sympy import Matrix, solve_linear_system\n",
      "from sympy.abc import a,b,c,d,e,f,g,h,i,j,k,l,x,y,z\n",
      "\n",
      "W = Matrix([[a,b,j],[d,e,k]])\n",
      "\n",
      "sol=solve_linear_system(W,x,y)\n",
      "print sol"
     ],
     "language": "python",
     "metadata": {},
     "outputs": [
      {
       "output_type": "stream",
       "stream": "stdout",
       "text": [
        "{x: (-b*k + e*j)/(a*e - b*d), y: (a*k - d*j)/(a*e - b*d)}\n"
       ]
      }
     ],
     "prompt_number": 23
    },
    {
     "cell_type": "code",
     "collapsed": false,
     "input": [
      "#E, I: balanced solution with parameters from sompolinsky paper (use to compare to simulated firing rates)\n",
      "from sympy import Matrix, solve_linear_system\n",
      "from sympy.abc import a,b,c,d,e,f,g,h,i,j,k,l,m,w,x,y,z\n",
      "from numpy import *\n",
      "\n",
      "K = 1000.0 #average number of E->E connections per neuron\n",
      "\n",
      "CEM = 1.0 #(\u03bcF/cm^2)\n",
      "CIM = 1.0\n",
      "\n",
      "gEL = 0.05 #(mS/cm^2)\n",
      "gIL = 0.05\n",
      "\n",
      "taue = CEM/gEL #membrane time constant for exc. neurons (ms)\n",
      "taui = CIM/gIL\n",
      "taua = 100\n",
      "tau1 = 3\n",
      "tau2 = 1\n",
      "\n",
      "VL = -65 #(mV) leak potential\n",
      "Vth = -50 #spiking threshold\n",
      "VE = 0 #excitatory reversal potential\n",
      "VI = -80 #inhibitory RP\n",
      "Vde = VE-VL\n",
      "Vdi = VI-VL\n",
      "\n",
      "Ne = 20000.0\n",
      "Ni = 5000.0\n",
      "N0 = 20000.0\n",
      "Ns=Ne+Ni+N0\n",
      "p=Ne/Ns\n",
      "q=Ni/Ns\n",
      "r=N0/Ns\n",
      "\n",
      "pe0 = K/N0\n",
      "pi0 = pe0\n",
      "pii = K/Ni\n",
      "pei = pii\n",
      "pee = K/Ne\n",
      "pie = pee\n",
      "\n",
      "sqrtK=sqrt(K)\n",
      "\n",
      "je0 = pe0*r*4.846*Vde*gEL*tau1/sqrtK\n",
      "jp0 = pi0*r*3.808*Vde*gIL*tau1/sqrtK\n",
      "jee = pee*p*0.462*Vde*gEL*tau1/sqrtK\n",
      "jpe = pie*p*1.270*Vde*gIL*tau1/sqrtK\n",
      "jep = pei*q*10.5*Vdi*gEL*tau1/sqrtK\n",
      "jpp = pii*q*9.5*Vdi*gIL*tau1/sqrtK\n",
      "\n",
      "W = Matrix([[jee,jep,je0,0],[jpe,jpp,jp0,0]])\n",
      "z=10.18\n",
      "sol=solve_linear_system(W,x,y,z)\n",
      "print sol"
     ],
     "language": "python",
     "metadata": {},
     "outputs": [
      {
       "output_type": "stream",
       "stream": "stdout",
       "text": [
        "{x: 6.88794321484461, y: 21.6726548237574}\n"
       ]
      }
     ],
     "prompt_number": 29
    },
    {
     "cell_type": "code",
     "collapsed": false,
     "input": [
      "#E, PV, SOM: balanced solution\n",
      "from sympy import Matrix, solve_linear_system\n",
      "from sympy.abc import a,b,c,d,e,f,g,h,i,j,k,l,m,w,x,y,z\n",
      "from numpy import *\n",
      "\n",
      "K = 1000.0 #average number of E->E connections per neuron\n",
      "\n",
      "##tau and g are inversely related UNLESS THIS IS NOT 1\n",
      "CEM = 1.0 #(\u03bcF/cm^2)\n",
      "CIM = 1.0\n",
      "\n",
      "\n",
      "#if you change gEL, you also need to change it in sompsim!\n",
      "gEL = 0.05 #(mS/cm^2)\n",
      "gIL = 0.05\n",
      "\n",
      "taue = CEM/gEL #membrane time constant for exc. neurons (ms)\n",
      "taui = CIM/gIL\n",
      "taua = 100\n",
      "tau1 = 3\n",
      "tau2 = 1\n",
      "\n",
      "VL = -65 #(mV) leak potential\n",
      "Vth = -50 #spiking threshold\n",
      "VE = 0 #excitatory reversal potential\n",
      "VI = -80 #inhibitory RP\n",
      "Vde = VE-VL\n",
      "Vdi = VI-VL\n",
      "\n",
      "Ne = 20000.0\n",
      "Np = 2500.0\n",
      "Ns = 2500.0\n",
      "N0 = 20000.0\n",
      "Ni=Np+Ns\n",
      "N=Ne+Np+Ns+N0\n",
      "p=Ne/N\n",
      "q=Np/N\n",
      "r=Ns/N\n",
      "s=N0/N\n",
      "\n",
      "pe0 = K/N0\n",
      "pp0 = pe0\n",
      "ps0 = pp0\n",
      "ppp = K/Ni\n",
      "pep = ppp\n",
      "psp = pep\n",
      "pps = K/Ni\n",
      "pes = pps\n",
      "pss = ppp\n",
      "pee = K/Ne\n",
      "ppe = pee\n",
      "pse = ppe\n",
      "\n",
      "sqrtK=sqrt(K)\n",
      "\n",
      "l=1.\n",
      "\n",
      "rpse=1.4 #ratio of jse:jpe (excitatory connection to SOM:to PV)\n",
      "reps=1.2 #ratio of jes:jep (excitatory connection from SOM:from PV)\n",
      "rips=2.0 #ratio of jss:jpp (interconnection within SOM:within PV)\n",
      "rrps=.7 #ratio of jsp:jps (reciprocal connections between i pops from PV:from SOM)\n",
      "rps0=1.0 #ratio of js0:jp0 (input layer to SOM:to PV)\n",
      "rpsp=1.0 #ratio of jps:jpp (PV input to SOM:to PV)\n",
      "\n",
      "je0 = pe0*s*4.846*Vde*gEL*tau1/sqrtK\n",
      "jp0 = pp0*s*3.808*Vde*gIL*tau1/sqrtK\n",
      "js0 = ps0*s*rps0*3.808*Vde*gIL*tau1/sqrtK\n",
      "jee = pee*p*0.462*Vde*gEL*tau1/sqrtK\n",
      "jpe = ppe*p*1.270*Vde*gIL*tau1/sqrtK\n",
      "jse = pse*p*rpse*1.270*Vde*gIL*tau1/sqrtK\n",
      "jep = pep*q*10.5*Vdi*gEL*tau1/sqrtK\n",
      "jpp = ppp*q*9.5*Vdi*gIL*tau1/sqrtK\n",
      "jps = pps*r*rpsp*9.5*Vdi*gIL*tau1/sqrtK\n",
      "jsp = psp*q*rrps*9.5*Vdi*gIL*tau1/sqrtK\n",
      "jes = pes*r*reps*10.5*Vdi*gEL*tau1/sqrtK\n",
      "jss = pss*r*rips*9.5*Vdi*gIL*tau1/sqrtK\n",
      "\n",
      "\n",
      "W = Matrix([[jee,jep,jes,je0,0],[jpe,jpp,jps,jp0,0],[jse,jsp,jss,js0,0]])\n",
      "print W\n",
      "z=10.18\n",
      "sol=solve_linear_system(W,w,x,y,z)\n",
      "\n",
      "print sol\n",
      "\n",
      "# W = Matrix([[jee,jep,jes,je0],[jpe,jpp,jps,jp0],[jse,jsp,jss,js0]])\n",
      "# Y = Matrix([9.7975,24.716,24.652,9.9555])\n",
      "# print W*Y"
     ],
     "language": "python",
     "metadata": {},
     "outputs": [
      {
       "output_type": "stream",
       "stream": "stdout",
       "text": [
        "Matrix([[0.00316543993782855, -0.00830097885794200, -0.00996117462953040, 0.0332028613392146, 0], [0.00870153402822999, -0.00751040944289990, -0.00751040944289990, 0.0260908988814959, 0], [0.0121821476395220, -0.00525728661002993, -0.0150208188857998, 0.0260908988814959, 0]])\n",
        "{x: 29.4099749787102, w: 4.12568811635438, y: 10.7349956038169}\n",
        "Matrix([[-0.0891653865666516], [-0.0257726699207664], [-0.121129787713287]])\n"
       ]
      }
     ],
     "prompt_number": 1
    },
    {
     "cell_type": "code",
     "collapsed": false,
     "input": [
      "#E, PV, SOM and left and right: balanced solution\n",
      "from sympy import Matrix, solve_linear_system\n",
      "from sympy.abc import a,b,c,d,e,f,t,u,v,w,x,y,z\n",
      "from numpy import *\n",
      "\n",
      "K = 1000.0 #average number of E->E connections per neuron\n",
      "\n",
      "##tau and g are inversely related UNLESS THIS IS NOT 1\n",
      "CEM = 1.0 #(\u03bcF/cm^2)\n",
      "CIM = 1.0\n",
      "\n",
      "\n",
      "#if you change gEL, you also need to change it in sompsim!\n",
      "gEL = 0.05 #(mS/cm^2)\n",
      "gIL = 0.05\n",
      "\n",
      "taue = CEM/gEL #membrane time constant for exc. neurons (ms)\n",
      "taui = CIM/gIL\n",
      "taua = 100\n",
      "tau1 = 3\n",
      "tau2 = 1\n",
      "\n",
      "VL = -65 #(mV) leak potential\n",
      "Vth = -50 #spiking threshold\n",
      "VE = 0 #excitatory reversal potential\n",
      "VI = -80 #inhibitory RP\n",
      "Vde = VE-VL\n",
      "Vdi = VI-VL\n",
      "\n",
      "Nel = 10000.\n",
      "Ner = 10000.\n",
      "Ne=Nel+Ner\n",
      "Npl = 1250.\n",
      "Npr = 1250.\n",
      "Np=Npl+Npr\n",
      "Nsl = 1250.\n",
      "Nsr = 1250.\n",
      "Ns=Nsl+Nsr\n",
      "N0 = 20000.\n",
      "\n",
      "N=Ne+Np+Ns+N0\n",
      "p=Nel/N\n",
      "q=Npl/N\n",
      "rl=Nsl/N\n",
      "rr=Nsr/N\n",
      "s=N0/N\n",
      "\n",
      "rpse=1.4 #ratio of jse:jpe (excitatory connection to SOM:to PV)\n",
      "reps=1.2 #ratio of jes:jep (excitatory connection from SOM:from PV)\n",
      "rips=2. #ratio of jss:jpp (interconnection within SOM:within PV)\n",
      "rrps=.7 #ratio of jsp:jps (reciprocal connections between i pops from PV:from SOM)\n",
      "rps0=1. #ratio of js0:jp0 (input layer to SOM:to PV)\n",
      "rpsp=1. #ratio of jps:jpp (PV input to SOM:to PV)\n",
      "delta=0\n",
      "\n",
      "sqrtK = sqrt(K)\n",
      "\n",
      "#connection probabilities\n",
      "pe0 = K/N0\n",
      "pp0 = pe0\n",
      "ps0 = pp0*rps0\n",
      "ppp = K/Ni\n",
      "pep = ppp\n",
      "pes = pep*reps\n",
      "pps = K/Ni\n",
      "psp = pps*rrps\n",
      "pss = ppp*rips\n",
      "pee = K/Ne\n",
      "ppe = pee\n",
      "pse = ppe*rpse\n",
      "\n",
      "\n",
      "je0 = pe0*s*4.846*Vde*gEL*tau1/sqrtK\n",
      "jp0 = pp0*s*3.808*Vde*gIL*tau1/sqrtK\n",
      "js0 = ps0*s*rps0*3.808*Vde*gIL*tau1/sqrtK\n",
      "jee = pee*p*0.462*Vde*gEL*tau1/sqrtK\n",
      "jpe = ppe*p*1.270*Vde*gIL*tau1/sqrtK\n",
      "jse = pse*p*rpse*Vde*gIL*tau1/sqrtK\n",
      "jep = pep*q*10.5*Vdi*gEL*tau1/sqrtK\n",
      "jpp = ppp*q*9.5*Vdi*gIL*tau1/sqrtK\n",
      "jpsl = pps*rl*rpsp*9.5*Vdi*gIL*tau1/sqrtK\n",
      "jpsr = pps*rr*rpsp*9.5*Vdi*gIL*tau1/sqrtK\n",
      "jsp = psp*q*rrps*9.5*Vdi*gIL*tau1/sqrtK\n",
      "jesl = pes*rl*reps*10.5*Vdi*gEL*tau1/sqrtK\n",
      "jesr = pes*rr*reps*10.5*Vdi*gEL*tau1/sqrtK\n",
      "jssl = pss*rl*rips*9.5*Vdi*gIL*tau1/sqrtK\n",
      "jssr = pss*rr*rips*9.5*Vdi*gIL*tau1/sqrtK\n",
      "\n",
      "W = Matrix([[jee,0,jep,0,jesl,0,je0,0],[0,jee,0,jep,0,jesr,je0,0],[jpe,0,jpp,0,jpsl,0,jp0,0],[0,jpe,0,jpp,0,jpsr,jp0,0],[jse,0,jsp,0,jssl,0,js0,0],[0,jse,0,jsp,0,jssr,js0,0]])\n",
      "#print W\n",
      "sol=solve_linear_system(W,t,u,v,w,x,y,z)\n",
      "print sol\n",
      "\n",
      "# X = Matrix([[jee,jee,jep,0,jesl,0,je0],[jee,jee,0,jep,0,jesr,je0],[jpe,jpe,jpp,0,jpsl,0,jp0],[jpe,jpe,0,jpp,0,jpsr,jp0],[jse,jse,jsp,0,jssl,0,js0],[jse,jse,0,jsp,0,jssr,js0]])\n",
      "# Y = Matrix([[18.644],[16.828],[60.112],[74.688],[35.6],[57.36],[9.635182408795602]])\n",
      "# print X*Y\n"
     ],
     "language": "python",
     "metadata": {},
     "outputs": [
      {
       "output_type": "stream",
       "stream": "stdout",
       "text": [
        "{x: 1.23662907286377*z, u: 0.653188575796783*z, w: 6.46808274372604*z, y: 1.23662907286377*z, v: 6.46808274372604*z, t: 0.653188575796783*z}\n"
       ]
      }
     ],
     "prompt_number": 5
    },
    {
     "cell_type": "code",
     "collapsed": false,
     "input": [
      "#E, PV, SOM with ratios of connection probabilities\n",
      "from sympy import Matrix, solve_linear_system\n",
      "from sympy.abc import a,b,c,d,e,f,g,h,i,j,k,l,m,x,y,z\n",
      "\n",
      "#g := reps = rips = rrps\n",
      "W = Matrix([[a,b,h*b,k],[e,f,g*f,l],[j*e,f,i*f,l]])\n",
      "\n",
      "sol=solve_linear_system(W,x,y,z)\n",
      "print sol"
     ],
     "language": "python",
     "metadata": {},
     "outputs": [
      {
       "output_type": "stream",
       "stream": "stdout",
       "text": [
        "{x: (-b*l*(g - h) - b*l*(h - i) + f*k*(g - i))/(a*f*g - a*f*i - b*e*g*j + b*e*h*j - b*e*h + b*e*i), z: -e*(b*j*l - b*l - f*j*k + f*k)/(f*(a*f*g - a*f*i - b*e*g*j + b*e*h*j - b*e*h + b*e*i)), y: (-e*f*k*(g*j - i) + l*(a*f*g - b*e*h) - l*(a*f*i - b*e*h*j))/(f*(a*f*g - a*f*i - b*e*g*j + b*e*h*j - b*e*h + b*e*i))}\n"
       ]
      }
     ],
     "prompt_number": 42
    },
    {
     "cell_type": "code",
     "collapsed": false,
     "input": [
      "#E, PV, SOM\n",
      "from sympy import Matrix, solve_linear_system\n",
      "from sympy.abc import a,b,c,d,e,f,g,h,i,j,k,l,m,u,v,w,x,y,z\n",
      "\n",
      "#g := rips = rrps\n",
      "#h := reps\n",
      "W = Matrix([[a,a,b,0,h*b,0,k],[a,a,0,b,0,h*b,k],[e,e,f,0,g*f,0,l],[e,e,0,f,0,g*f,l],[j*e,j*e,f,0,i*f,0,l],[j*e,j*e,0,f,0,i*f,l]])\n",
      "\n",
      "sol=solve_linear_system(W,u,v,w,x,y,z)\n",
      "print sol"
     ],
     "language": "python",
     "metadata": {},
     "outputs": [
      {
       "output_type": "stream",
       "stream": "stdout",
       "text": [
        "{u: (-a*f*g*v + a*f*i*v + b*e*g*j*v - b*e*h*j*v + b*e*h*v - b*e*i*v - b*g*l + b*i*l + f*g*k - f*i*k)/(a*f*g - a*f*i - b*e*g*j + b*e*h*j - b*e*h + b*e*i), x: (a*f*g*l - a*f*i*l + b*e*h*j*l - b*e*h*l - e*f*g*j*k + e*f*i*k)/(f*(a*f*g - a*f*i - b*e*g*j + b*e*h*j - b*e*h + b*e*i)), w: (a*f*g*l - a*f*i*l + b*e*h*j*l - b*e*h*l - e*f*g*j*k + e*f*i*k)/(f*(a*f*g - a*f*i - b*e*g*j + b*e*h*j - b*e*h + b*e*i)), z: -e*(b*j*l - b*l - f*j*k + f*k)/(f*((g - h)*(a*f - b*e*j) + (h - i)*(a*f - b*e))), y: -e*(b*j*l - b*l - f*j*k + f*k)/(f*((g - h)*(a*f - b*e*j) + (h - i)*(a*f - b*e)))}\n"
       ]
      }
     ],
     "prompt_number": 44
    },
    {
     "cell_type": "code",
     "collapsed": false,
     "input": [
      "#E, PV, SOM: balanced solution\n",
      "from sympy import Matrix, solve_linear_system\n",
      "from sympy.abc import a,b,c,d,e,f,g,h,i,j,k,l,m,w,x,y,z\n",
      "\n",
      "W = Matrix([[a,b,c,d,0],[e,f,g,h,0],[i,j,k,l,0]])\n",
      "\n",
      "sol=solve_linear_system(W,w,x,y,z)\n",
      "print sol"
     ],
     "language": "python",
     "metadata": {},
     "outputs": [
      {
       "output_type": "stream",
       "stream": "stdout",
       "text": [
        "{x: z*(a*g*l - a*h*k - c*e*l + c*h*i + d*e*k - d*g*i)/(a*f*k - a*g*j - b*e*k + b*g*i + c*e*j - c*f*i), w: -z*(b*g*l - b*h*k - c*f*l + c*h*j + d*f*k - d*g*j)/(a*f*k - a*g*j - b*e*k + b*g*i + c*e*j - c*f*i), y: -z*(a*f*l - a*h*j - b*e*l + b*h*i + d*e*j - d*f*i)/(a*f*k - a*g*j - b*e*k + b*g*i + c*e*j - c*f*i)}\n"
       ]
      }
     ],
     "prompt_number": 29
    },
    {
     "cell_type": "code",
     "collapsed": false,
     "input": [
      "from sympy import Matrix, solve_linear_system\n",
      "from sympy.abc import a,b,c,g,h,i,j,k,l,m,n,u,v,w,x,y,z\n",
      "j=0\n",
      "W = Matrix([[a,a,g,0,k+j,0,0],[a,a,0,g,0,k,0],[b,b,h,0,m+j,0,0],[b,b,0,h,0,m,0],[c,c,i,0,n+j,0,0],[c,c,0,i,0,n,0]])\n",
      "\n",
      "sol=solve_linear_system(W,u,v,w,x,y,z)\n",
      "print sol"
     ],
     "language": "python",
     "metadata": {},
     "outputs": [
      {
       "output_type": "stream",
       "stream": "stdout",
       "text": [
        "{u: -v, x: 0, w: 0, z: 0, y: 0}\n"
       ]
      }
     ],
     "prompt_number": 22
    },
    {
     "cell_type": "code",
     "collapsed": false,
     "input": [],
     "language": "python",
     "metadata": {},
     "outputs": []
    }
   ],
   "metadata": {}
  }
 ]
}